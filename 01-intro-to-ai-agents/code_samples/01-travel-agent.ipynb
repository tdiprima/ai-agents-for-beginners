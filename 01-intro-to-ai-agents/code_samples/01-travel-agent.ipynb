{
 "cells": [
  {
   "cell_type": "markdown",
   "metadata": {},
   "source": [
    "# Travel Agent AI\n",
    "\n",
    "This notebook creates a basic AI travel agent using OpenAI's `gpt-4o-mini` via GitHub Models. It suggests random vacation destinations and plans trips based on user input.\n",
    "\n",
    "No `semantic_kernel` here—just raw `openai` and some Python magic. 🫶"
   ]
  },
  {
   "cell_type": "markdown",
   "metadata": {},
   "source": [
    "## Import the Needed Python Packages"
   ]
  },
  {
   "cell_type": "code",
   "execution_count": 1,
   "metadata": {},
   "outputs": [
    {
     "name": "stdout",
     "output_type": "stream",
     "text": [
      "Python 3.12.10\r\n"
     ]
    }
   ],
   "source": [
    "!python --version"
   ]
  },
  {
   "cell_type": "code",
   "execution_count": 2,
   "metadata": {},
   "outputs": [
    {
     "name": "stdout",
     "output_type": "stream",
     "text": [
      "2.11.4\r\n"
     ]
    }
   ],
   "source": [
    "!python -c \"import pydantic; print(pydantic.__version__)\""
   ]
  },
  {
   "cell_type": "code",
   "execution_count": 3,
   "metadata": {},
   "outputs": [],
   "source": [
    "import os\n",
    "import random\n",
    "from typing import Optional\n",
    "from openai import AsyncOpenAI\n",
    "from dotenv import load_dotenv"
   ]
  },
  {
   "cell_type": "markdown",
   "metadata": {},
   "source": [
    "## Creating the Client\n",
    "\n",
    "We’re using [GitHub Models](https://aka.ms/ai-agents-beginners/github-models) to access `gpt-4o-mini`. Make sure your `GITHUB_TOKEN` is set in a `.env` file. You can swap `gpt-4o-mini` for another model available on GitHub Models to mix things up."
   ]
  },
  {
   "cell_type": "code",
   "execution_count": 4,
   "metadata": {},
   "outputs": [],
   "source": [
    "load_dotenv()\n",
    "client = AsyncOpenAI(\n",
    "    api_key=os.environ.get(\"GITHUB_TOKEN\"),\n",
    "    base_url=\"https://models.inference.ai.azure.com/\",\n",
    ")"
   ]
  },
  {
   "cell_type": "markdown",
   "metadata": {},
   "source": [
    "## Creating the Destination Picker\n",
    "\n",
    "This `DestinationsPlugin` picks random vacation spots, just like the original. No fancy frameworks—just a simple class."
   ]
  },
  {
   "cell_type": "code",
   "execution_count": 5,
   "metadata": {},
   "outputs": [],
   "source": [
    "class DestinationsPlugin:\n",
    "    \"\"\"A list of random vacation destinations.\"\"\"\n",
    "\n",
    "    def __init__(self):\n",
    "        self.destinations = [\n",
    "            \"Barcelona, Spain\",\n",
    "            \"Paris, France\",\n",
    "            \"Berlin, Germany\",\n",
    "            \"Tokyo, Japan\",\n",
    "            \"Sydney, Australia\",\n",
    "            \"New York, USA\",\n",
    "            \"Cairo, Egypt\",\n",
    "            \"Cape Town, South Africa\",\n",
    "            \"Rio de Janeiro, Brazil\",\n",
    "            \"Bali, Indonesia\"\n",
    "        ]\n",
    "        self.last_destination = None\n",
    "\n",
    "    def get_random_destination(self) -> str:\n",
    "        available_destinations = self.destinations.copy()\n",
    "        if self.last_destination and len(available_destinations) > 1:\n",
    "            available_destinations.remove(self.last_destination)\n",
    "\n",
    "        destination = random.choice(available_destinations)\n",
    "        self.last_destination = destination\n",
    "        return destination"
   ]
  },
  {
   "cell_type": "markdown",
   "metadata": {},
   "source": [
    "## Setting Up the Agent Logic\n",
    "\n",
    "We’ll create a function to handle the AI chat, using `openai` directly. It mimics the `TravelAgent` by combining a random destination with user input and a system prompt."
   ]
  },
  {
   "cell_type": "code",
   "execution_count": 6,
   "metadata": {},
   "outputs": [],
   "source": [
    "async def run_travel_agent(user_input: str, plugin: DestinationsPlugin) -> str:\n",
    "    system_prompt = \"You are a helpful AI travel agent that plans vacations for customers at random destinations. Use the provided destination to craft a response.\"\n",
    "    destination = plugin.get_random_destination()\n",
    "    prompt = f\"{user_input}\\nSuggested destination: {destination}\"\n",
    "\n",
    "    response = await client.chat.completions.create(\n",
    "        model=\"gpt-4o-mini\",\n",
    "        messages=[\n",
    "            {\"role\": \"system\", \"content\": system_prompt},\n",
    "            {\"role\": \"user\", \"content\": prompt}\n",
    "        ],\n",
    "        temperature=0.7,\n",
    "        max_tokens=500\n",
    "    )\n",
    "    return response.choices[0].message.content"
   ]
  },
  {
   "cell_type": "markdown",
   "metadata": {},
   "source": [
    "## Running the Agent\n",
    "\n",
    "Let’s test the agent with a sample input: `Plan me a day trip.` Feel free to change the input to see different responses!"
   ]
  },
  {
   "cell_type": "code",
   "execution_count": 7,
   "metadata": {},
   "outputs": [
    {
     "name": "stdout",
     "output_type": "stream",
     "text": [
      "# User: Plan me a day trip.\n",
      "\n",
      "# TravelAgent: Absolutely! Barcelona is a vibrant city filled with stunning architecture, rich history, and delicious cuisine. Here’s a suggested itinerary for your day trip in Barcelona:\n",
      "\n",
      "### Morning\n",
      "\n",
      "**8:00 AM - Breakfast at Brunch & Cake**\n",
      "Start your day with a delicious breakfast at Brunch & Cake, a popular café known for its creative and colorful dishes. Try their signature pancakes or a healthy smoothie bowl to fuel your day.\n",
      "\n",
      "**9:30 AM - Visit La Sagrada Familia**\n",
      "After breakfast, head to La Sagrada Familia, the iconic basilica designed by Antoni Gaudí. It's best to book your tickets in advance to avoid long lines. Spend some time exploring the stunning architecture and the intricate details of this UNESCO World Heritage Site.\n",
      "\n",
      "### Midday\n",
      "\n",
      "**11:30 AM - Stroll through Park Güell**\n",
      "Take a short taxi or metro ride to Park Güell, another Gaudí masterpiece. Wander through the whimsical park filled with colorful mosaics, unique sculptures, and panoramic views of the city. Don't forget to take plenty of photos!\n",
      "\n",
      "**1:00 PM - Lunch at El Xampanyet**\n",
      "Head to the El Born neighborhood for a traditional tapas lunch at El Xampanyet. This popular spot serves delicious small plates and a variety of Spanish wines and cavas. Be sure to try their anchovies and patatas bravas.\n",
      "\n",
      "### Afternoon\n",
      "\n",
      "**2:30 PM - Explore the Gothic Quarter**\n",
      "After lunch, take a leisurely stroll through the Gothic Quarter (Barri Gòtic). This historic area is filled with narrow streets, charming squares, and medieval buildings. Visit the Barcelona Cathedral and enjoy the beautiful architecture.\n",
      "\n",
      "**4:00 PM - Visit Picasso Museum**\n",
      "Next, make your way to the Picasso Museum, which houses an extensive collection of artworks by Pablo Picasso. The museum is located in a beautiful medieval building, and it’s a fantastic way to learn about the artist's early years.\n",
      "\n",
      "### Evening\n",
      "\n",
      "**5:30 PM - Relax at Barceloneta Beach**\n",
      "Head to Barceloneta Beach to unwind and soak up the sun. Take a walk along the promenade, relax on the sand, or enjoy a refreshing drink at one of the beachside bars.\n",
      "\n",
      "**7:30 PM - Dinner at Can Majó**\n",
      "For dinner, enjoy fresh seafood at Can Majó, located near the beach. Known for its paella and seafood dishes, it's the perfect spot to indulge in traditional Catalan cuisine.\n",
      "\n",
      "### Night\n",
      "\n",
      "**9:00 PM -\n",
      "\n"
     ]
    }
   ],
   "source": [
    "async def main():\n",
    "    plugin = DestinationsPlugin()\n",
    "    user_inputs = [\"Plan me a day trip.\"]\n",
    "\n",
    "    for user_input in user_inputs:\n",
    "        print(f\"# User: {user_input}\\n\")\n",
    "        response = await run_travel_agent(user_input, plugin)\n",
    "        print(f\"# TravelAgent: {response}\\n\")\n",
    "\n",
    "await main()"
   ]
  },
  {
   "cell_type": "code",
   "execution_count": null,
   "metadata": {},
   "outputs": [],
   "source": []
  }
 ],
 "metadata": {
  "kernelspec": {
   "display_name": "Python 3 (ipykernel)",
   "language": "python",
   "name": "python3"
  },
  "language_info": {
   "codemirror_mode": {
    "name": "ipython",
    "version": 3
   },
   "file_extension": ".py",
   "mimetype": "text/x-python",
   "name": "python",
   "nbconvert_exporter": "python",
   "pygments_lexer": "ipython3",
   "version": "3.9.13"
  }
 },
 "nbformat": 4,
 "nbformat_minor": 2
}
