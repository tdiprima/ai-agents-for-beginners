{
 "cells": [
  {
   "cell_type": "markdown",
   "metadata": {},
   "source": [
    "# Travel Agent AI with Chart\n",
    "\n",
    "This notebook creates an AI travel agent using OpenAI's `gpt-4o-mini` via GitHub Models. It plans vacations and generates a bar chart for traveler data.\n",
    "\n",
    "No Azure AI Projects here—just `openai`, `matplotlib`, and Python. Let’s make it pop! 📊"
   ]
  },
  {
   "cell_type": "markdown",
   "metadata": {},
   "source": [
    "## Import the Needed Python Packages"
   ]
  },
  {
   "cell_type": "code",
   "execution_count": 1,
   "metadata": {},
   "outputs": [],
   "source": [
    "import os\n",
    "from openai import AsyncOpenAI\n",
    "from dotenv import load_dotenv\n",
    "from IPython.display import display, HTML, Image\n",
    "# import matplotlib.pyplot as plt\n",
    "from pathlib import Path"
   ]
  },
  {
   "cell_type": "code",
   "execution_count": 2,
   "metadata": {},
   "outputs": [],
   "source": [
    "import matplotlib.pyplot as plt"
   ]
  },
  {
   "cell_type": "markdown",
   "metadata": {},
   "source": [
    "## Create the Client\n",
    "\n",
    "We’re using [GitHub Models](https://aka.ms/ai-agents-beginners/github-models) to access `gpt-4o-mini`. Make sure your `GITHUB_TOKEN` is set in a `.env` file. You can swap `gpt-4o-mini` for another model to test different results."
   ]
  },
  {
   "cell_type": "code",
   "execution_count": 3,
   "metadata": {},
   "outputs": [],
   "source": [
    "load_dotenv()\n",
    "client = AsyncOpenAI(\n",
    "    api_key=os.environ.get(\"GITHUB_TOKEN\"),\n",
    "    base_url=\"https://models.inference.ai.azure.com/\",\n",
    ")"
   ]
  },
  {
   "cell_type": "markdown",
   "metadata": {},
   "source": [
    "## Generate Bar Chart\n",
    "\n",
    "We’ll create a function to generate a bar chart from traveler data using `matplotlib` and save it as a PNG."
   ]
  },
  {
   "cell_type": "code",
   "execution_count": 4,
   "metadata": {},
   "outputs": [],
   "source": [
    "def create_bar_chart(data: dict, filename: str) -> str:\n",
    "    destinations = list(data.keys())\n",
    "    travelers = list(data.values())\n",
    "\n",
    "    plt.figure(figsize=(8, 6))\n",
    "    plt.bar(destinations, travelers, color='#007bff')\n",
    "    plt.title('Travelers by Destination')\n",
    "    plt.xlabel('Destinations')\n",
    "    plt.ylabel('Number of Travelers')\n",
    "    plt.grid(axis='y', linestyle='--', alpha=0.7)\n",
    "\n",
    "    output_path = Path(filename)\n",
    "    plt.savefig(output_path, format='png', bbox_inches='tight')\n",
    "    plt.close()\n",
    "    return str(output_path)"
   ]
  },
  {
   "cell_type": "markdown",
   "metadata": {},
   "source": [
    "## Run the Agent\n",
    "\n",
    "We’ll process the user query to plan a vacation and generate a bar chart for the given data. The AI will describe the chart, and we’ll display it as an image."
   ]
  },
  {
   "cell_type": "code",
   "execution_count": 5,
   "metadata": {},
   "outputs": [
    {
     "data": {
      "text/html": [
       "<h2>Travel Agent AI Execution</h2><div style='margin:15px 0; padding:10px; background-color:#f5f5f5; border-left:4px solid #007bff; border-radius:4px;'><strong>User:</strong><br><div style='margin-left:15px'>Could you please create a bar chart for the operating profit using the following data and provide the file to me? Bali: 100 Travelers, Paris: 356 Travelers, London: 900 Travelers, Tokyo: 850 Travellers</div></div><div style='color:#007bff'><i>Processing request...</i></div>"
      ],
      "text/plain": [
       "<IPython.core.display.HTML object>"
      ]
     },
     "metadata": {},
     "output_type": "display_data"
    },
    {
     "data": {
      "text/html": [
       "<h2>Travel Agent AI Execution</h2><div style='margin:15px 0; padding:10px; background-color:#f5f5f5; border-left:4px solid #007bff; border-radius:4px;'><strong>User:</strong><br><div style='margin-left:15px'>Could you please create a bar chart for the operating profit using the following data and provide the file to me? Bali: 100 Travelers, Paris: 356 Travelers, London: 900 Travelers, Tokyo: 850 Travellers</div></div><div style='margin:15px 0; padding:10px; background-color:#f0f7ff; border-left:4px solid #28a745; border-radius:4px;'><strong>Assistant:</strong><br><div style='margin-left:15px; white-space:pre-wrap'>The provided traveler data lists the number of travelers to four popular destinations: Bali, Paris, London, and Tokyo. Here are the details:\n",
       "\n",
       "- **Bali**: 100 travelers\n",
       "- **Paris**: 356 travelers\n",
       "- **London**: 900 travelers\n",
       "- **Tokyo**: 850 travelers\n",
       "\n",
       "In the generated bar chart, each destination is represented by a separate bar. The height of each bar corresponds to the number of travelers:\n",
       "\n",
       "- The bar for **Bali** is the shortest, indicating a relatively low number of travelers at 100.\n",
       "- The bar for **Paris** is taller than Bali's, representing 356 travelers.\n",
       "- The bar for **Tokyo** is significantly taller than both Bali and Paris, reflecting the number of travelers at 850.\n",
       "- The tallest bar belongs to **London**, showcasing the highest number of travelers at 900.\n",
       "\n",
       "The chart effectively visualizes the travel preferences of individuals, with London being the most popular destination among the four, followed closely by Tokyo. Bali, while still a notable destination, attracts a smaller number of travelers in comparison. This visual representation allows for an easy comparison of traveler numbers across these destinations. \n",
       "\n",
       "The chart has been saved as 'travelers_chart.png' for your reference.</div></div><div style='margin-top:10px'><strong>Generated Chart:</strong> travelers_chart.png</div>"
      ],
      "text/plain": [
       "<IPython.core.display.HTML object>"
      ]
     },
     "metadata": {},
     "output_type": "display_data"
    },
    {
     "data": {
      "image/png": "[encoded data removed]",
      "text/plain": [
       "<IPython.core.display.Image object>"
      ]
     },
     "metadata": {},
     "output_type": "display_data"
    }
   ],
   "source": [
    "import matplotlib.pyplot as plt\n",
    "\n",
    "async def run_travel_agent():\n",
    "    html_output = \"<h2>Travel Agent AI Execution</h2>\"\n",
    "\n",
    "    user_query = \"Could you please create a bar chart for the operating profit using the following data and provide the file to me? Bali: 100 Travelers, Paris: 356 Travelers, London: 900 Travelers, Tokyo: 850 Travellers\"\n",
    "\n",
    "    # Display user query\n",
    "    html_output += \"<div style='margin:15px 0; padding:10px; background-color:#f5f5f5; border-left:4px solid #007bff; border-radius:4px;'>\"\n",
    "    html_output += \"<strong>User:</strong><br>\"\n",
    "    html_output += f\"<div style='margin-left:15px'>{user_query}</div>\"\n",
    "    html_output += \"</div>\"\n",
    "\n",
    "    # Show processing message\n",
    "    display(HTML(html_output + \"<div style='color:#007bff'><i>Processing request...</i></div>\"))\n",
    "\n",
    "    # Extract data and generate chart\n",
    "    data = {\n",
    "        \"Bali\": 100,\n",
    "        \"Paris\": 356,\n",
    "        \"London\": 900,\n",
    "        \"Tokyo\": 850\n",
    "    }\n",
    "    chart_filename = \"travelers_chart.png\"\n",
    "    chart_path = create_bar_chart(data, chart_filename)\n",
    "\n",
    "    # Get AI response\n",
    "    system_prompt = \"You are a helpful travel agent. Describe the provided traveler data and the generated bar chart.\"\n",
    "    prompt = f\"{user_query}\\nThe bar chart has been generated and saved as '{chart_filename}'. Describe the chart and the data.\"\n",
    "\n",
    "    response = await client.chat.completions.create(\n",
    "        model=\"gpt-4o-mini\",\n",
    "        messages=[\n",
    "            {\"role\": \"system\", \"content\": system_prompt},\n",
    "            {\"role\": \"user\", \"content\": prompt}\n",
    "        ],\n",
    "        temperature=0.7,\n",
    "        max_tokens=500\n",
    "    )\n",
    "    ai_response = response.choices[0].message.content\n",
    "\n",
    "    # Format response\n",
    "    html_output += \"<div style='margin:15px 0; padding:10px; background-color:#f0f7ff; border-left:4px solid #28a745; border-radius:4px;'>\"\n",
    "    html_output += \"<strong>Assistant:</strong><br>\"\n",
    "    html_output += f\"<div style='margin-left:15px; white-space:pre-wrap'>{ai_response}</div>\"\n",
    "    html_output += \"</div>\"\n",
    "\n",
    "    # Add chart info\n",
    "    html_output += f\"<div style='margin-top:10px'><strong>Generated Chart:</strong> {chart_filename}</div>\"\n",
    "\n",
    "    # Final display\n",
    "    display(HTML(html_output))\n",
    "    display(Image(chart_path))\n",
    "\n",
    "await run_travel_agent()"
   ]
  },
  {
   "cell_type": "code",
   "execution_count": null,
   "metadata": {},
   "outputs": [],
   "source": []
  }
 ],
 "metadata": {
  "kernelspec": {
   "display_name": "Python 3 (ipykernel)",
   "language": "python",
   "name": "python3"
  },
  "language_info": {
   "codemirror_mode": {
    "name": "ipython",
    "version": 3
   },
   "file_extension": ".py",
   "mimetype": "text/x-python",
   "name": "python",
   "nbconvert_exporter": "python",
   "pygments_lexer": "ipython3",
   "version": "3.9.13"
  }
 },
 "nbformat": 4,
 "nbformat_minor": 2
}
