{
 "cells": [
  {
   "cell_type": "markdown",
   "metadata": {},
   "source": [
    "# Travel Agent AI with Plugin\n",
    "\n",
    "This notebook creates an AI travel agent using OpenAI's `gpt-4o-mini` via GitHub Models. It suggests random vacation destinations and plans trips based on user input.\n",
    "\n",
    "No `semantic_kernel`—just `openai` and Python. Let’s keep it chill! ✈️"
   ]
  },
  {
   "cell_type": "markdown",
   "metadata": {},
   "source": [
    "## Import the Needed Python Packages"
   ]
  },
  {
   "cell_type": "code",
   "execution_count": 1,
   "metadata": {},
   "outputs": [],
   "source": [
    "import os\n",
    "import random\n",
    "from openai import AsyncOpenAI\n",
    "from dotenv import load_dotenv\n",
    "from IPython.display import display, HTML"
   ]
  },
  {
   "cell_type": "markdown",
   "metadata": {},
   "source": [
    "## Create the Client\n",
    "\n",
    "We’re using [GitHub Models](https://aka.ms/ai-agents-beginners/github-models) to access `gpt-4o-mini`. Make sure your `GITHUB_TOKEN` is set in a `.env` file. You can swap `gpt-4o-mini` for another model to test different results."
   ]
  },
  {
   "cell_type": "code",
   "execution_count": 6,
   "metadata": {},
   "outputs": [],
   "source": [
    "load_dotenv()\n",
    "client = AsyncOpenAI(\n",
    "    api_key=os.environ.get(\"GITHUB_TOKEN\"),\n",
    "    base_url=\"https://models.inference.ai.azure.com/\",\n",
    ")"
   ]
  },
  {
   "cell_type": "markdown",
   "metadata": {},
   "source": [
    "## Create the Destination Picker\n",
    "\n",
    "This `DestinationsPlugin` picks random vacation spots, same as the original but without `semantic_kernel`."
   ]
  },
  {
   "cell_type": "code",
   "execution_count": 3,
   "metadata": {},
   "outputs": [],
   "source": [
    "class DestinationsPlugin:\n",
    "    \"\"\"A list of random vacation destinations.\"\"\"\n",
    "\n",
    "    def __init__(self):\n",
    "        self.destinations = [\n",
    "            \"Barcelona, Spain\",\n",
    "            \"Paris, France\",\n",
    "            \"Berlin, Germany\",\n",
    "            \"Tokyo, Japan\",\n",
    "            \"Sydney, Australia\",\n",
    "            \"New York, USA\",\n",
    "            \"Cairo, Egypt\",\n",
    "            \"Cape Town, South Africa\",\n",
    "            \"Rio de Janeiro, Brazil\",\n",
    "            \"Bali, Indonesia\"\n",
    "        ]\n",
    "        self.last_destination = None\n",
    "\n",
    "    def get_random_destination(self) -> str:\n",
    "        available_destinations = self.destinations.copy()\n",
    "        if self.last_destination and len(available_destinations) > 1:\n",
    "            available_destinations.remove(self.last_destination)\n",
    "\n",
    "        destination = random.choice(available_destinations)\n",
    "        self.last_destination = destination\n",
    "        return destination"
   ]
  },
  {
   "cell_type": "markdown",
   "metadata": {},
   "source": [
    "## Run the Agent\n",
    "\n",
    "We’ll process user inputs to plan vacations, using the `DestinationsPlugin` to pick random spots. The output mimics the original’s HTML style, including function call details."
   ]
  },
  {
   "cell_type": "code",
   "execution_count": 4,
   "metadata": {},
   "outputs": [
    {
     "data": {
      "text/html": [
       "<div style='margin-bottom:10px'><div style='font-weight:bold'>User:</div><div style='margin-left:20px'>Plan me a day trip.</div></div><div style='margin-bottom:10px'><details><summary style='cursor:pointer; font-weight:bold; color:#0066cc;'>Function Calls (click to expand)</summary><div style='margin:10px; padding:10px; background-color:#f8f8f8; border:1px solid #ddd; border-radius:4px; white-space:pre-wrap; font-size:14px; color:#333;'>Calling function: get_random_destination()\n",
       "Function Result:\n",
       "\n",
       "Paris, France</div></details></div><div style='margin-bottom:20px'><div style='font-weight:bold'>TravelAgent:</div><div style='margin-left:20px; white-space:pre-wrap'>Certainly! Here’s a delightful day trip itinerary for you in the enchanting city of Paris, France.\n",
       "\n",
       "**Morning:**\n",
       "\n",
       "1. **Breakfast at a Local Café** (8:00 AM - 9:00 AM)\n",
       "   - Start your day at a classic Parisian café like Café de Flore or Les Deux Magots. Indulge in a buttery croissant and a café au lait to fuel your day.\n",
       "\n",
       "2. **Visit the Louvre Museum** (9:30 AM - 12:00 PM)\n",
       "   - Head to the iconic Louvre Museum. Spend a few hours exploring its vast collection, including the Mona Lisa and the Venus de Milo. Be sure to book your tickets in advance to skip the long lines.\n",
       "\n",
       "**Afternoon:**\n",
       "\n",
       "3. **Lunch in Le Marais** (12:30 PM - 1:30 PM)\n",
       "   - Stroll to the Le Marais district and enjoy lunch at a bistro like Chez Janou or L'As du Fallafel for some delicious falafel. \n",
       "\n",
       "4. **Explore the Historic Streets of Le Marais** (1:30 PM - 3:00 PM)\n",
       "   - After lunch, take some time to wander through the charming streets of Le Marais. Visit the Place des Vosges and check out unique boutiques and art galleries.\n",
       "\n",
       "5. **Visit Notre-Dame Cathedral** (3:30 PM - 4:30 PM)\n",
       "   - Make your way to Île de la Cité to visit the stunning Notre-Dame Cathedral. While the interior is currently closed for restoration, you can admire its magnificent façade and enjoy a walk around the island.\n",
       "\n",
       "**Evening:**\n",
       "\n",
       "6. **Stroll Along the Seine River** (4:30 PM - 5:30 PM)\n",
       "   - Take a leisurely stroll along the Seine River. You can cross over to the Left Bank and enjoy views of the iconic bridges and the cityscape.\n",
       "\n",
       "7. **Dinner in Saint-Germain-des-Prés** (6:00 PM - 7:30 PM)\n",
       "   - Head to the Saint-Germain-des-Prés neighborhood for dinner. Consider dining at a classic French restaurant like Le Procope or a trendy spot like Les Fous de la Mer for seafood.\n",
       "\n",
       "8. **Evening View from Montmartre** (8:00 PM - 9:30 PM)\n",
       "   - End your day with a visit to Montmartre. Climb up to the Sacré-Cœur Basilica for breathtaking panoramic views of</div></div><hr>"
      ],
      "text/plain": [
       "<IPython.core.display.HTML object>"
      ]
     },
     "metadata": {},
     "output_type": "display_data"
    },
    {
     "data": {
      "text/html": [
       "<div style='margin-bottom:10px'><div style='font-weight:bold'>User:</div><div style='margin-left:20px'>I don't like that destination. Plan me another vacation.</div></div><div style='margin-bottom:10px'><details><summary style='cursor:pointer; font-weight:bold; color:#0066cc;'>Function Calls (click to expand)</summary><div style='margin:10px; padding:10px; background-color:#f8f8f8; border:1px solid #ddd; border-radius:4px; white-space:pre-wrap; font-size:14px; color:#333;'>Calling function: get_random_destination()\n",
       "Function Result:\n",
       "\n",
       "Berlin, Germany</div></details></div><div style='margin-bottom:20px'><div style='font-weight:bold'>TravelAgent:</div><div style='margin-left:20px; white-space:pre-wrap'>Absolutely! Let’s explore a different destination for your vacation. How about a trip to **Barcelona, Spain**? \n",
       "\n",
       "**Barcelona Highlights:**\n",
       "\n",
       "1. **Architectural Wonders**: Visit the stunning Sagrada Familia, designed by Antoni Gaudí, and explore Park Güell for its whimsical structures and beautiful gardens.\n",
       "\n",
       "2. **Cultural Experiences**: Stroll down Las Ramblas, a vibrant street filled with shops, cafes, and street performers. Don't miss the Gothic Quarter with its narrow medieval streets and historic buildings.\n",
       "\n",
       "3. **Beach Time**: Enjoy some time at the beautiful beaches like Barceloneta, where you can relax, sunbathe, or try some water sports.\n",
       "\n",
       "4. **Culinary Delights**: Indulge in delicious tapas at local bars, and don’t forget to try the famous paella. Explore the bustling food markets like La Boqueria for fresh produce and local delicacies.\n",
       "\n",
       "5. **Art and Museums**: Discover works by Picasso and Miró at their dedicated museums, or visit the National Art Museum of Catalonia for a diverse collection of art.\n",
       "\n",
       "6. **Nightlife**: Experience the vibrant nightlife with a mix of traditional flamenco shows, trendy bars, and nightclubs that keep the energy alive until dawn.\n",
       "\n",
       "**Travel Considerations**:\n",
       "- Best time to visit: Late spring (May to June) or early fall (September to October) for pleasant weather.\n",
       "- Flight options: Direct flights are available from major cities, and the city’s public transport makes getting around easy.\n",
       "- Accommodation: Choose from a range of options, from luxury hotels to charming boutique stays or vacation rentals in the city center.\n",
       "\n",
       "Would you like more information on flights, accommodations, or activities in Barcelona?</div></div><hr>"
      ],
      "text/plain": [
       "<IPython.core.display.HTML object>"
      ]
     },
     "metadata": {},
     "output_type": "display_data"
    }
   ],
   "source": [
    "async def run_travel_agent(user_input: str, plugin: DestinationsPlugin) -> tuple[str, str]:\n",
    "    system_prompt = \"You are a helpful AI travel agent that plans vacations for customers at random destinations. Use the provided destination to craft a response.\"\n",
    "    destination = plugin.get_random_destination()\n",
    "    prompt = f\"{user_input}\\nSuggested destination: {destination}\"\n",
    "\n",
    "    response = await client.chat.completions.create(\n",
    "        model=\"gpt-4o-mini\",\n",
    "        messages=[\n",
    "            {\"role\": \"system\", \"content\": system_prompt},\n",
    "            {\"role\": \"user\", \"content\": prompt}\n",
    "        ],\n",
    "        temperature=0.7,\n",
    "        max_tokens=500\n",
    "    )\n",
    "    return response.choices[0].message.content, destination\n",
    "\n",
    "async def main():\n",
    "    plugin = DestinationsPlugin()\n",
    "    user_inputs = [\n",
    "        \"Plan me a day trip.\",\n",
    "        \"I don't like that destination. Plan me another vacation.\",\n",
    "    ]\n",
    "\n",
    "    for user_input in user_inputs:\n",
    "        html_output = (\n",
    "            f\"<div style='margin-bottom:10px'>\"\n",
    "            f\"<div style='font-weight:bold'>User:</div>\"\n",
    "            f\"<div style='margin-left:20px'>{user_input}</div></div>\"\n",
    "        )\n",
    "\n",
    "        # Simulate function call\n",
    "        response, destination = await run_travel_agent(user_input, plugin)\n",
    "        function_calls = [f\"Calling function: get_random_destination()\", f\"Function Result:\\n\\n{destination}\"]\n",
    "\n",
    "        # Display function calls\n",
    "        html_output += (\n",
    "            \"<div style='margin-bottom:10px'>\"\n",
    "            \"<details>\"\n",
    "            \"<summary style='cursor:pointer; font-weight:bold; color:#0066cc;'>Function Calls (click to expand)</summary>\"\n",
    "            \"<div style='margin:10px; padding:10px; background-color:#f8f8f8; \"\n",
    "            \"border:1px solid #ddd; border-radius:4px; white-space:pre-wrap; font-size:14px; color:#333;'>\"\n",
    "            f\"{chr(10).join(function_calls)}\"\n",
    "            \"</div></details></div>\"\n",
    "        )\n",
    "\n",
    "        # Display response\n",
    "        html_output += (\n",
    "            \"<div style='margin-bottom:20px'>\"\n",
    "            f\"<div style='font-weight:bold'>TravelAgent:</div>\"\n",
    "            f\"<div style='margin-left:20px; white-space:pre-wrap'>{response}</div></div><hr>\"\n",
    "        )\n",
    "\n",
    "        display(HTML(html_output))\n",
    "\n",
    "await main()"
   ]
  },
  {
   "cell_type": "code",
   "execution_count": null,
   "metadata": {},
   "outputs": [],
   "source": []
  }
 ],
 "metadata": {
  "kernelspec": {
   "display_name": "Python 3 (ipykernel)",
   "language": "python",
   "name": "python3"
  },
  "language_info": {
   "codemirror_mode": {
    "name": "ipython",
    "version": 3
   },
   "file_extension": ".py",
   "mimetype": "text/x-python",
   "name": "python",
   "nbconvert_exporter": "python",
   "pygments_lexer": "ipython3",
   "version": "3.9.13"
  }
 },
 "nbformat": 4,
 "nbformat_minor": 2
}
