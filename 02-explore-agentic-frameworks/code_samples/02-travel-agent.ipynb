{
 "cells": [
  {
   "cell_type": "markdown",
   "metadata": {},
   "source": [
    "# Travel Agent AI\n",
    "\n",
    "This notebook creates a basic AI travel agent using OpenAI's `gpt-4o-mini` via GitHub Models. It plans vacations based on user input, like a sunny getaway.\n",
    "\n",
    "No `autogen` here—just straight-up `openai` and Python. Let’s get vibey! 🏖️"
   ]
  },
  {
   "cell_type": "markdown",
   "metadata": {},
   "source": [
    "## Import the Needed Python Packages"
   ]
  },
  {
   "cell_type": "code",
   "execution_count": 1,
   "metadata": {},
   "outputs": [],
   "source": [
    "import os\n",
    "from openai import AsyncOpenAI\n",
    "from dotenv import load_dotenv\n",
    "from IPython.display import display, HTML"
   ]
  },
  {
   "cell_type": "markdown",
   "metadata": {},
   "source": [
    "## Create the Client\n",
    "\n",
    "We’re using [GitHub Models](https://aka.ms/ai-agents-beginners/github-models) to access `gpt-4o-mini`. Make sure your `GITHUB_TOKEN` is set in a `.env` file. You can swap `gpt-4o-mini` for another model from GitHub Models to test different results.\n",
    "\n",
    "Quick test: We’ll run a simple prompt, `What is the capital of France?`, to check the client."
   ]
  },
  {
   "cell_type": "code",
   "execution_count": 2,
   "metadata": {},
   "outputs": [
    {
     "name": "stdout",
     "output_type": "stream",
     "text": [
      "The capital of France is Paris.\n"
     ]
    }
   ],
   "source": [
    "load_dotenv()\n",
    "client = AsyncOpenAI(\n",
    "    api_key=os.environ.get(\"GITHUB_TOKEN\"),\n",
    "    base_url=\"https://models.inference.ai.azure.com/\",\n",
    ")\n",
    "\n",
    "async def test_client():\n",
    "    response = await client.chat.completions.create(\n",
    "        model=\"gpt-4o-mini\",\n",
    "        messages=[\n",
    "            {\"role\": \"user\", \"content\": \"What is the capital of France?\"}\n",
    "        ],\n",
    "        max_tokens=50\n",
    "    )\n",
    "    print(response.choices[0].message.content)\n",
    "\n",
    "await test_client()"
   ]
  },
  {
   "cell_type": "markdown",
   "metadata": {},
   "source": [
    "## Setting Up the Agent Logic\n",
    "\n",
    "We’ll create a function to handle the travel agent AI, using `openai` directly. It takes a user prompt, adds a system message to set the travel agent vibe, and generates a response."
   ]
  },
  {
   "cell_type": "code",
   "execution_count": 3,
   "metadata": {},
   "outputs": [],
   "source": [
    "async def run_travel_agent(user_input: str) -> str:\n",
    "    system_prompt = \"You are a travel agent that plans great vacations.\"\n",
    "\n",
    "    response = await client.chat.completions.create(\n",
    "        model=\"gpt-4o-mini\",\n",
    "        messages=[\n",
    "            {\"role\": \"system\", \"content\": system_prompt},\n",
    "            {\"role\": \"user\", \"content\": user_input}\n",
    "        ],\n",
    "        temperature=0.7,\n",
    "        max_tokens=500\n",
    "    )\n",
    "    return response.choices[0].message.content"
   ]
  },
  {
   "cell_type": "markdown",
   "metadata": {},
   "source": [
    "## Run the Agent\n",
    "\n",
    "Let’s test the agent with the input `Plan me a great sunny vacation`. We’ll display the convo in a clean HTML format, just like the original. Change the input to see different responses!"
   ]
  },
  {
   "cell_type": "code",
   "execution_count": 4,
   "metadata": {},
   "outputs": [
    {
     "data": {
      "text/html": [
       "<div style='margin-bottom:10px'><div style='font-weight:bold'>User:</div><div style='margin-left:20px'>Plan me a great sunny vacation</div></div><div style='margin-bottom:20px'><div style='font-weight:bold'>Assistant:</div><div style='margin-left:20px; white-space:pre-wrap'>Absolutely! Here’s a detailed plan for a sunny vacation that combines relaxation, adventure, and cultural experiences. Let’s consider a week-long getaway to the beautiful island of Maui, Hawaii.\n",
       "\n",
       "### Destination: Maui, Hawaii\n",
       "\n",
       "#### Duration: 7 Days\n",
       "\n",
       "---\n",
       "\n",
       "### Day 1: Arrival in Maui\n",
       "- **Flight:** Arrive at Kahului Airport (OGG).\n",
       "- **Accommodation:** Check into a beachfront resort, such as the Hyatt Regency Maui Resort & Spa or the Westin Maui Resort & Spa.\n",
       "- **Evening:** Enjoy a welcome dinner at a nearby oceanfront restaurant, like Mama’s Fish House, known for its fresh seafood.\n",
       "\n",
       "---\n",
       "\n",
       "### Day 2: Beach Day & Snorkeling\n",
       "- **Morning:** Relax at Kaanapali Beach, sunbathe, and swim in the clear waters.\n",
       "- **Afternoon:** Go on a snorkeling tour to Molokini Crater. Book a tour that includes gear and lunch.\n",
       "- **Evening:** Attend a traditional Hawaiian luau, such as the Old Lahaina Luau, for a fun night of food, music, and dance.\n",
       "\n",
       "---\n",
       "\n",
       "### Day 3: Road to Hana\n",
       "- **All Day:** Rent a car and drive the famous Road to Hana. Stop at key locations:\n",
       "  - Twin Falls\n",
       "  - Wai’anapanapa State Park (black sand beach)\n",
       "  - Ohe’o Gulch (Seven Sacred Pools)\n",
       "- **Lunch:** Pack a picnic or stop at a local food stand for some banana bread.\n",
       "- **Evening:** Return to the hotel and unwind with a sunset view from your balcony or the beach.\n",
       "\n",
       "---\n",
       "\n",
       "### Day 4: Haleakalā National Park\n",
       "- **Morning:** Rise early to watch the sunrise at Haleakalā Crater. Make reservations in advance.\n",
       "- **Daytime:** Explore hiking trails or take a bike tour down the mountain.\n",
       "- **Evening:** Return to your hotel and enjoy a relaxing dinner at a nearby eatery.\n",
       "\n",
       "---\n",
       "\n",
       "### Day 5: Explore Upcountry Maui\n",
       "- **Morning:** Visit local farms and wineries in Upcountry Maui, such as MauiWine or Surfing Goat Dairy.\n",
       "- **Afternoon:** Head to Makawao for unique shops and art galleries.\n",
       "- **Evening:** Dinner at a local farm-to-table restaurant like The Mill House, which offers stunning views and fresh ingredients.\n",
       "\n",
       "---\n",
       "\n",
       "### Day 6: Water Sports & Relaxation\n",
       "- **Morning:** Spend the day indulging in water</div></div>"
      ],
      "text/plain": [
       "<IPython.core.display.HTML object>"
      ]
     },
     "metadata": {},
     "output_type": "display_data"
    }
   ],
   "source": [
    "async def main():\n",
    "    user_query = \"Plan me a great sunny vacation\"\n",
    "\n",
    "    # Build HTML output\n",
    "    html_output = \"<div style='margin-bottom:10px'>\"\n",
    "    html_output += \"<div style='font-weight:bold'>User:</div>\"\n",
    "    html_output += f\"<div style='margin-left:20px'>{user_query}</div>\"\n",
    "    html_output += \"</div>\"\n",
    "\n",
    "    # Get agent response\n",
    "    response = await run_travel_agent(user_query)\n",
    "\n",
    "    # Add response to HTML\n",
    "    html_output += \"<div style='margin-bottom:20px'>\"\n",
    "    html_output += \"<div style='font-weight:bold'>Assistant:</div>\"\n",
    "    html_output += f\"<div style='margin-left:20px; white-space:pre-wrap'>{response}</div>\"\n",
    "    html_output += \"</div>\"\n",
    "\n",
    "    # Display HTML\n",
    "    display(HTML(html_output))\n",
    "\n",
    "await main()"
   ]
  },
  {
   "cell_type": "code",
   "execution_count": null,
   "metadata": {},
   "outputs": [],
   "source": []
  }
 ],
 "metadata": {
  "kernelspec": {
   "display_name": "Python 3 (ipykernel)",
   "language": "python",
   "name": "python3"
  },
  "language_info": {
   "codemirror_mode": {
    "name": "ipython",
    "version": 3
   },
   "file_extension": ".py",
   "mimetype": "text/x-python",
   "name": "python",
   "nbconvert_exporter": "python",
   "pygments_lexer": "ipython3",
   "version": "3.9.13"
  }
 },
 "nbformat": 4,
 "nbformat_minor": 2
}
